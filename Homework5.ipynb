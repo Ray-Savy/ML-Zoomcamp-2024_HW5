{
 "cells": [
  {
   "cell_type": "markdown",
   "id": "79f5c7c6-ac2b-495b-be45-1cdef2c7abb8",
   "metadata": {},
   "source": [
    "## Question 1. Version of Pipenv (1 point)\n",
    "\n",
    "### in command line... \n",
    "### pip install pipenv\n",
    "### pipenv --version\n",
    "### pipenv, version 2024.2.0\n"
   ]
  },
  {
   "cell_type": "markdown",
   "id": "468d968a-de3a-4b44-81db-75471adf37e9",
   "metadata": {},
   "source": [
    "## Question 2. Sklearn hash\n",
    "\n",
    "### run pipenv install scikitlearn==1.5.2\n",
    "### copy hash from Pipfile.lock: sha256:03b6158efa3faaf1feea3faa884c840ebd61b6484167c711548fce208ea09445"
   ]
  },
  {
   "cell_type": "markdown",
   "id": "14092131-4104-45f6-8c9d-132dd21d04c1",
   "metadata": {},
   "source": [
    "## Question 3. Probability of subscription (1 point)\n",
    "\n",
    "### wrote below script:\n",
    "\n",
    "import pickle\n",
    "\n",
    "\n",
    "client = {\"job\": \"management\", \"duration\": 400, \"poutcome\": \"success\"}\n",
    "\n",
    "\n",
    "with open('model1.bin', 'rb') as f_in:\n",
    "    model = pickle.load(f_in)\n",
    "\n",
    "\n",
    "with open('dv.bin', 'rb') as f_in:\n",
    "    dv = pickle.load(f_in)\n",
    "\n",
    "\n",
    "X = dv.transform(client)\n",
    "\n",
    "prob = model.predict_proba(X)[0, 1]\n",
    "\n",
    "print(prob)\n"
   ]
  },
  {
   "cell_type": "markdown",
   "id": "cac802b9-5e9b-4c79-b61c-4431ab9b5c21",
   "metadata": {},
   "source": [
    "## Output:\n",
    "\n",
    "% python script.py\n",
    "/opt/anaconda3/envs/ml-zoomcamp/lib/python3.11/site-packages/sklearn/base.py:376: InconsistentVersionWarning: Trying to unpickle estimator LogisticRegression from version 1.5.2 when using version 1.5.1. This might lead to breaking code or invalid results. Use at your own risk. For more info please refer to:\n",
    "https://scikit-learn.org/stable/model_persistence.html#security-maintainability-limitations\n",
    "  warnings.warn(\n",
    "/opt/anaconda3/envs/ml-zoomcamp/lib/python3.11/site-packages/sklearn/base.py:376: InconsistentVersionWarning: Trying to unpickle estimator DictVectorizer from version 1.5.2 when using version 1.5.1. This might lead to breaking code or invalid results. Use at your own risk. For more info please refer to:\n",
    "https://scikit-learn.org/stable/model_persistence.html#security-maintainability-limitations\n",
    "  warnings.warn(\n",
    "0.7590966516879658"
   ]
  },
  {
   "cell_type": "markdown",
   "id": "f658f289-bf9d-4609-9586-fe14ac085186",
   "metadata": {},
   "source": [
    "## Question 4. Probability of subscription (Flask) (1 point)\n",
    "\n",
    "### Created webapp.py file with flask:\n",
    "\n",
    "from flask import Flask, request, jsonify\n",
    "import pickle\n",
    "\n",
    "\n",
    "with open('model1.bin', 'rb') as f_in:\n",
    "    model = pickle.load(f_in)\n",
    "\n",
    "with open('dv.bin', 'rb') as f_in:\n",
    "    dv = pickle.load(f_in)\n",
    "\n",
    "\n",
    "app = Flask('model')\n",
    "\n",
    "\n",
    "@app.route('/predict', methods = ['POST'])\n",
    "def predict():\n",
    "    client = request.get_json()\n",
    "    X = dv.transform(client)\n",
    "    y_pred = model.predict_proba(X)[0, 1]\n",
    "    sub = y_pred >= 0.5\n",
    "\n",
    "    result = {\n",
    "        'sub_prob' : float(y_pred),\n",
    "        'sub' : bool(sub)\n",
    "    }\n",
    "\n",
    "    return jsonify(result)\n"
   ]
  },
  {
   "cell_type": "markdown",
   "id": "5b1fa1d2-009c-40a1-8f29-bbd4f0372e64",
   "metadata": {},
   "source": [
    "### run:\n",
    "% gunicorn --bind 0.0.0.0:5555 webapp:app"
   ]
  },
  {
   "cell_type": "markdown",
   "id": "09adb5f1-869f-4f69-8ad3-8e53ba94ce62",
   "metadata": {},
   "source": [
    "### created separate request.py file:\n",
    "\n",
    "import requests\n",
    "\n",
    "\n",
    "url = 'http://localhost:5555/predict'\n",
    "\n",
    "client = {\"job\": \"student\", \"duration\": 280, \"poutcome\": \"failure\"}\n",
    "resp = requests.post(url, json=client).json()\n",
    "\n",
    "print(resp)\n"
   ]
  },
  {
   "cell_type": "markdown",
   "id": "081eac08-60ed-4504-bec3-e97951b56f42",
   "metadata": {},
   "source": [
    "## Output:\n",
    "\n",
    "% python request.py\n",
    "{'sub': False, 'sub_prob': 0.33480703475511053}"
   ]
  },
  {
   "cell_type": "markdown",
   "id": "b6757a29-5d04-4d7a-8014-5768588df656",
   "metadata": {},
   "source": [
    "## Question 5. Size of base image\n",
    "\n",
    "### ran below commands:\n",
    "\n",
    "% docker pull svizor/zoomcamp-model:3.11.5-slim"
   ]
  },
  {
   "cell_type": "markdown",
   "id": "bb5505b9-8216-46c0-830f-72e57dd332a0",
   "metadata": {},
   "source": [
    "## Output:\n",
    "\n",
    "3.11.5-slim: Pulling from svizor/zoomcamp-model\n",
    "a803e7c4b030: Pull complete \n",
    "bf3336e84c8e: Pull complete \n",
    "eb76b60fbb0c: Pull complete \n",
    "a2cee97f4fbd: Pull complete \n",
    "0358d4e17ae3: Pull complete \n",
    "fb37f8d7a667: Pull complete \n",
    "4e69cd59a5af: Pull complete \n",
    "Digest: sha256:15d61790363f892dfdef55f47b78feed751cb59704d47ea911df0ef3e9300c06\n",
    "Status: Downloaded newer image for svizor/zoomcamp-model:3.11.5-slim\n",
    "docker.io/svizor/zoomcamp-model:3.11.5-slim\n",
    "(base) saumyasrivastava@SAUMYAs-Laptop Deployment % docker images\n",
    "REPOSITORY              TAG           IMAGE ID       CREATED       SIZE\n",
    "svizor/zoomcamp-model   3.11.5-slim   975e7bdca086   10 days ago   130MB\n",
    "(base) saumyasrivastava@SAUMYAs-Laptop Deployment % ls\n",
    "Pipfile         Pipfile.lock    dv.bin          model1.bin      request.py      script.py       webapp.py\n",
    "(base) saumyasrivastava@SAUMYAs-Laptop Deployment % docker images\n",
    "REPOSITORY              TAG           IMAGE ID       CREATED       SIZE\n",
    "svizor/zoomcamp-model   3.11.5-slim   975e7bdca086   10 days ago   130MB"
   ]
  },
  {
   "cell_type": "markdown",
   "id": "a33ddb01-3aa6-43ac-9b25-2ad4dd785e53",
   "metadata": {},
   "source": [
    "## Question 6. Probability of subscription (Docker)\n",
    "\n",
    "### Created Docker File:\n",
    "\n",
    "FROM python:3.11.5-slim\n",
    "\n",
    "RUN pip install pipenv\n",
    "\n",
    "WORKDIR /app                                                                \n",
    "\n",
    "COPY [\"Pipfile\", \"Pipfile.lock\", \"./\"]\n",
    "\n",
    "RUN pipenv install --system --deploy\n",
    "\n",
    "COPY [\"webapp.py\", \"model1.bin\", \"dv.bin\", \"./\"]\n",
    "\n",
    "EXPOSE 5555\n",
    "\n",
    "ENTRYPOINT [\"gunicorn\", \"--bind\", \"0.0.0.0:5555\", \"webapp:app\"]\n"
   ]
  },
  {
   "cell_type": "markdown",
   "id": "8a2fa097-4983-4f76-8e34-7fafa4111437",
   "metadata": {},
   "source": [
    "### Ran below commands:\n",
    "\n",
    "% docker build -t webapp .                      \n",
    "[+] Building 3.9s (12/12) FINISHED                                                                                                             docker:desktop-linux\n",
    " => [internal] load build definition from Dockerfile                                                                                                           0.0s\n",
    " => => transferring dockerfile: 408B                                                                                                                           0.0s\n",
    " => [internal] load metadata for docker.io/library/python:3.11.5-slim                                                                                          3.9s\n",
    " => [auth] library/python:pull token for registry-1.docker.io                                                                                                  0.0s\n",
    " => [internal] load .dockerignore                                                                                                                              0.0s\n",
    " => => transferring context: 2B                                                                                                                                0.0s\n",
    " => [internal] load build context                                                                                                                              0.0s\n",
    " => => transferring context: 828B                                                                                                                              0.0s\n",
    " => [1/6] FROM docker.io/library/python:3.11.5-slim@sha256:edaf703dce209d774af3ff768fc92b1e3b60261e7602126276f9ceb0e3a96874                                    0.0s\n",
    " => CACHED [2/6] RUN pip install pipenv                                                                                                                        0.0s\n",
    " => CACHED [3/6] WORKDIR /app                                                                                                                                  0.0s\n",
    " => CACHED [4/6] COPY [Pipfile, Pipfile.lock, ./]                                                                                                              0.0s\n",
    " => CACHED [5/6] RUN pipenv install --system --deploy                                                                                                          0.0s\n",
    " => CACHED [6/6] COPY [webapp.py, model1.bin, dv.bin, ./]                                                                                                      0.0s\n",
    " => exporting to image                                                                                                                                         0.0s\n",
    " => => exporting layers                                                                                                                                        0.0s\n",
    " => => writing image sha256:eed6d7c67d77e057f130243d067bf94d16bb73d3347ca00b22651be2478f9c60                                                                   0.0s\n",
    " => => naming to docker.io/library/webapp                                                                                                                      0.0s\n",
    "\n",
    "View build details: docker-desktop://dashboard/build/desktop-linux/desktop-linux/2j8aypwz3z2qcjyy1eknrde13\n",
    "(base) saumyasrivastava@SAUMYAs-Laptop Deployment % docker run -it -p 5555:5555 webapp:latest\n",
    "[2024-10-29 12:37:51 +0000] [1] [INFO] Starting gunicorn 23.0.0\n",
    "[2024-10-29 12:37:51 +0000] [1] [INFO] Listening at: http://0.0.0.0:5555 (1)\n",
    "[2024-10-29 12:37:51 +0000] [1] [INFO] Using worker: sync\n",
    "[2024-10-29 12:37:51 +0000] [7] [INFO] Booting worker with pid: 7\n"
   ]
  },
  {
   "cell_type": "markdown",
   "id": "ac49f61d-53f1-459c-9141-559e8754791b",
   "metadata": {},
   "source": [
    "### changed request.py file as:\n",
    "\n",
    "import requests\n",
    "\n",
    "\n",
    "url = 'http://localhost:5555/predict'\n",
    "\n",
    "client = {\"job\": \"management\", \"duration\": 400, \"poutcome\": \"success\"}\n",
    "resp = requests.post(url, json=client).json()\n",
    "\n",
    "print(resp)\n"
   ]
  },
  {
   "cell_type": "markdown",
   "id": "b98279fb-3393-4ece-8972-486a6cecd27a",
   "metadata": {},
   "source": [
    "### ran in separate cmd:\n",
    "\n",
    "% python request.py"
   ]
  },
  {
   "cell_type": "markdown",
   "id": "c49b3159-18fd-4615-a747-2ba52fb82bb4",
   "metadata": {},
   "source": [
    "## Output:\n",
    "\n",
    "{'sub': True, 'sub_prob': 0.7590966516879658}"
   ]
  }
 ],
 "metadata": {
  "kernelspec": {
   "display_name": "Python 3 (ipykernel)",
   "language": "python",
   "name": "python3"
  },
  "language_info": {
   "codemirror_mode": {
    "name": "ipython",
    "version": 3
   },
   "file_extension": ".py",
   "mimetype": "text/x-python",
   "name": "python",
   "nbconvert_exporter": "python",
   "pygments_lexer": "ipython3",
   "version": "3.11.9"
  }
 },
 "nbformat": 4,
 "nbformat_minor": 5
}
